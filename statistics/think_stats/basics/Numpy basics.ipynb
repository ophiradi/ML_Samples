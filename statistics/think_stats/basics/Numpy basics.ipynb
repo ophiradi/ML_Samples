{
 "cells": [
  {
   "cell_type": "code",
   "execution_count": null,
   "metadata": {},
   "outputs": [],
   "source": [
    "import pandas as pd\n",
    "import numpy as np"
   ]
  },
  {
   "cell_type": "code",
   "execution_count": null,
   "metadata": {},
   "outputs": [],
   "source": [
    "df_iris = pd.read_csv(\"../../../datasets/statistics/EDA/iris.csv\")\n",
    "versicolor_petal_length = df_iris[df_iris['species'] == 'versicolor'].petal_length.values\n",
    "versicolor_petal_width = df_iris[df_iris['species'] == 'versicolor'].petal_width.values"
   ]
  },
  {
   "cell_type": "code",
   "execution_count": null,
   "metadata": {},
   "outputs": [],
   "source": [
    "### PERCENTILES of a dataset.\n",
    "# Specify array of percentiles: percentiles\n",
    "print(np.percentile(versicolor_petal_length, np.array([2.5,25,50,75,97.5])))"
   ]
  },
  {
   "cell_type": "code",
   "execution_count": null,
   "metadata": {},
   "outputs": [],
   "source": [
    "# VARIANCE and STD\n",
    "print(f\"{np.std(versicolor_petal_length)} == {np.sqrt(np.var(versicolor_petal_length))}\")"
   ]
  },
  {
   "cell_type": "code",
   "execution_count": null,
   "metadata": {},
   "outputs": [],
   "source": [
    "### COVARIANCE matric\n",
    "# np.cov(x, y) returns a 2D array where entries [0,1] and [1,0] are the covariances.\n",
    "# Entry [0,0] is the variance of the data in versicolor_petal_length, \n",
    "# and entry [1,1] is the variance of the data in versicolor_petal_width.\n",
    "# Compute the covariance matrix: \n",
    "covariance_matrix = np.cov(versicolor_petal_length, versicolor_petal_width)\n",
    "print(covariance_matrix)\n",
    "print(f\"length/width covariance = {covariance_matrix[0,1]}\")"
   ]
  },
  {
   "cell_type": "code",
   "execution_count": null,
   "metadata": {},
   "outputs": [],
   "source": [
    "### PEARSON correlation coefficient\n",
    "def pearson_r(x, y):\n",
    "    \"\"\"Compute Pearson correlation coefficient between two arrays.\"\"\"\n",
    "    corr_mat = np.corrcoef(x,y)\n",
    "    return corr_mat[0,1]\n",
    "\n",
    "print(pearson_r(versicolor_petal_length, versicolor_petal_width))"
   ]
  }
 ],
 "metadata": {
  "kernelspec": {
   "display_name": "Python 3",
   "language": "python",
   "name": "python3"
  },
  "language_info": {
   "codemirror_mode": {
    "name": "ipython",
    "version": 3
   },
   "file_extension": ".py",
   "mimetype": "text/x-python",
   "name": "python",
   "nbconvert_exporter": "python",
   "pygments_lexer": "ipython3",
   "version": "3.6.5"
  }
 },
 "nbformat": 4,
 "nbformat_minor": 2
}
